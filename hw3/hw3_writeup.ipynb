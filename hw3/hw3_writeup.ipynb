{
 "cells": [
  {
   "cell_type": "code",
   "execution_count": 1,
   "metadata": {},
   "outputs": [],
   "source": [
    "%load_ext autoreload\n",
    "%autoreload 2\n",
    "import pipeline\n",
    "import pandas as pd\n",
    "import warnings\n",
    "warnings.simplefilter('ignore')\n",
    "df = pipeline.read_load('/Users/erhla/Downloads/projects_2012_2013.csv')"
   ]
  },
  {
   "cell_type": "code",
   "execution_count": 2,
   "metadata": {},
   "outputs": [],
   "source": [
    "df['date_posted'] = pd.to_datetime(df['date_posted'])\n",
    "df['datefullyfunded'] = pd.to_datetime(df['datefullyfunded'])\n",
    "df['days_to_fund'] = df['datefullyfunded'] - df['date_posted']\n",
    "df['funded_within_60_days'] = pd.get_dummies(df['days_to_fund'] <= pd.Timedelta('60 days'), drop_first=True)"
   ]
  },
  {
   "cell_type": "code",
   "execution_count": 3,
   "metadata": {},
   "outputs": [
    {
     "name": "stdout",
     "output_type": "stream",
     "text": [
      "VARIABLE: total_price_including_optional_support \n",
      " count    124976.000000\n",
      "mean        654.011811\n",
      "std        1098.015854\n",
      "min          92.000000\n",
      "25%         345.810000\n",
      "50%         510.500000\n",
      "75%         752.960000\n",
      "max      164382.840000\n",
      "Name: total_price_including_optional_support, dtype: float64 \n",
      "\n",
      "VARIABLE: students_reached \n",
      " count    124917.000000\n",
      "mean         95.445760\n",
      "std         163.481912\n",
      "min           1.000000\n",
      "25%          23.000000\n",
      "50%          30.000000\n",
      "75%         100.000000\n",
      "max       12143.000000\n",
      "Name: students_reached, dtype: float64 \n",
      "\n",
      "VARIABLE: funded_within_60_days \n",
      " count    124976.000000\n",
      "mean          0.711865\n",
      "std           0.452896\n",
      "min           0.000000\n",
      "25%           0.000000\n",
      "50%           1.000000\n",
      "75%           1.000000\n",
      "max           1.000000\n",
      "Name: funded_within_60_days, dtype: float64 \n",
      "\n"
     ]
    },
    {
     "data": {
      "image/png": "[encoded data removed]",
      "text/plain": [
       "<Figure size 288x288 with 1 Axes>"
      ]
     },
     "metadata": {
      "needs_background": "light"
     },
     "output_type": "display_data"
    },
    {
     "name": "stdout",
     "output_type": "stream",
     "text": [
      "total_price_including_optional_support has possible outliers 402 \n",
      "\n",
      "students_reached has possible outliers 993 \n",
      "\n"
     ]
    },
    {
     "data": {
      "image/png": "[encoded data removed]",
      "text/plain": [
       "<Figure size 432x288 with 1 Axes>"
      ]
     },
     "metadata": {
      "needs_background": "light"
     },
     "output_type": "display_data"
    }
   ],
   "source": [
    "pipeline.explore(df, ['total_price_including_optional_support', 'students_reached', 'funded_within_60_days'])"
   ]
  },
  {
   "cell_type": "code",
   "execution_count": 4,
   "metadata": {},
   "outputs": [
    {
     "name": "stdout",
     "output_type": "stream",
     "text": [
      "53 nas filled for students_reached\n"
     ]
    }
   ],
   "source": [
    "df = pipeline.preprocess(df, ['students_reached'], ['primary_focus_area', 'resource_type', 'grade_level'])"
   ]
  },
  {
   "cell_type": "code",
   "execution_count": 5,
   "metadata": {},
   "outputs": [
    {
     "name": "stdout",
     "output_type": "stream",
     "text": [
      "students_reached discretized\n",
      "total_price_including_optional_support discretized\n",
      "school_charter has values:  ['f' 't']\n",
      "dummy created for school_charter\n",
      "school_magnet has values:  ['f' 't']\n",
      "dummy created for school_magnet\n",
      "eligible_double_your_impact_match has values:  ['f' 't']\n",
      "dummy created for eligible_double_your_impact_match\n",
      "teacher_prefix has values:  ['Mrs.' 'Ms.' 'Mr.' 'Dr.']\n",
      "target variable has more than two values, multiple dummies created\n",
      "poverty_level has values:  ['highest poverty' 'high poverty' 'low poverty' 'moderate poverty']\n",
      "target variable has more than two values, multiple dummies created\n",
      "grade_level has values:  ['Grades PreK-2' 'Grades 3-5' 'Grades 9-12' 'Grades 6-8']\n",
      "target variable has more than two values, multiple dummies created\n",
      "primary_focus_area has values:  ['Math & Science' 'History & Civics' 'Literacy & Language'\n",
      " 'Applied Learning' 'Music & The Arts' 'Health & Sports' 'Special Needs']\n",
      "target variable has more than two values, multiple dummies created\n",
      "resource_type has values:  ['Supplies' 'Books' 'Technology' 'Other' 'Trips' 'Visitors']\n",
      "target variable has more than two values, multiple dummies created\n"
     ]
    }
   ],
   "source": [
    "feature_dict = {'students_reached': 'discretized',\n",
    "                'total_price_including_optional_support': 'discretized',\n",
    "                'school_charter': 'dummy',\n",
    "                'school_magnet': 'dummy',\n",
    "                'eligible_double_your_impact_match': 'dummy',\n",
    "                'teacher_prefix': 'dummy',\n",
    "                'poverty_level': 'dummy',\n",
    "                'grade_level': 'dummy',\n",
    "                'primary_focus_area': 'dummy',\n",
    "                'resource_type': 'dummy'\n",
    "               }\n",
    "df, feature_ls = pipeline.generate_features(df, feature_dict, 10)"
   ]
  },
  {
   "cell_type": "code",
   "execution_count": 8,
   "metadata": {},
   "outputs": [
    {
     "name": "stdout",
     "output_type": "stream",
     "text": [
      "06/01/2012 completed\n",
      "12/01/2012 completed\n",
      "06/01/2013 completed\n"
     ]
    }
   ],
   "source": [
    "results = pipeline.build_models(df, feature_ls, 'funded_within_60_days')\n"
   ]
  },
  {
   "cell_type": "code",
   "execution_count": 46,
   "metadata": {},
   "outputs": [
    {
     "data": {
      "text/html": [
       "<div>\n",
       "<style scoped>\n",
       "    .dataframe tbody tr th:only-of-type {\n",
       "        vertical-align: middle;\n",
       "    }\n",
       "\n",
       "    .dataframe tbody tr th {\n",
       "        vertical-align: top;\n",
       "    }\n",
       "\n",
       "    .dataframe thead th {\n",
       "        text-align: right;\n",
       "    }\n",
       "</style>\n",
       "<table border=\"1\" class=\"dataframe\">\n",
       "  <thead>\n",
       "    <tr style=\"text-align: right;\">\n",
       "      <th></th>\n",
       "      <th>0.01_precision</th>\n",
       "      <th>0.01_recall</th>\n",
       "      <th>0.02_precision</th>\n",
       "      <th>0.02_recall</th>\n",
       "      <th>0.05_precision</th>\n",
       "      <th>0.05_recall</th>\n",
       "      <th>0.1_precision</th>\n",
       "      <th>0.1_recall</th>\n",
       "      <th>0.2_precision</th>\n",
       "      <th>0.2_recall</th>\n",
       "      <th>0.3_precision</th>\n",
       "      <th>0.3_recall</th>\n",
       "      <th>0.5_precision</th>\n",
       "      <th>0.5_recall</th>\n",
       "      <th>auc_roc</th>\n",
       "      <th>baseline</th>\n",
       "      <th>parameters</th>\n",
       "      <th>pr_curve</th>\n",
       "      <th>split_date</th>\n",
       "      <th>type</th>\n",
       "    </tr>\n",
       "  </thead>\n",
       "  <tbody>\n",
       "    <tr>\n",
       "      <th>0</th>\n",
       "      <td>1.0</td>\n",
       "      <td>0.000133</td>\n",
       "      <td>1.0</td>\n",
       "      <td>0.000267</td>\n",
       "      <td>1.0</td>\n",
       "      <td>0.000667</td>\n",
       "      <td>0.966667</td>\n",
       "      <td>0.001290</td>\n",
       "      <td>0.966667</td>\n",
       "      <td>0.002579</td>\n",
       "      <td>0.978022</td>\n",
       "      <td>0.003958</td>\n",
       "      <td>0.973510</td>\n",
       "      <td>0.006537</td>\n",
       "      <td>0.657127</td>\n",
       "      <td>0.740297</td>\n",
       "      <td>{'max_depth': 5, 'min_samples_split': 10, 'n_e...</td>\n",
       "      <td>([0.7402969351812226, 0.740328581305765, 0.740...</td>\n",
       "      <td>06/01/2012</td>\n",
       "      <td>RF</td>\n",
       "    </tr>\n",
       "    <tr>\n",
       "      <th>1</th>\n",
       "      <td>1.0</td>\n",
       "      <td>0.000133</td>\n",
       "      <td>1.0</td>\n",
       "      <td>0.000267</td>\n",
       "      <td>1.0</td>\n",
       "      <td>0.000667</td>\n",
       "      <td>1.000000</td>\n",
       "      <td>0.001334</td>\n",
       "      <td>0.950000</td>\n",
       "      <td>0.002535</td>\n",
       "      <td>0.945055</td>\n",
       "      <td>0.003824</td>\n",
       "      <td>0.953642</td>\n",
       "      <td>0.006403</td>\n",
       "      <td>0.658748</td>\n",
       "      <td>0.740297</td>\n",
       "      <td>{'max_depth': 5, 'min_samples_split': 10, 'n_e...</td>\n",
       "      <td>([0.7403213062944429, 0.7403127572016461, 0.74...</td>\n",
       "      <td>06/01/2012</td>\n",
       "      <td>RF</td>\n",
       "    </tr>\n",
       "    <tr>\n",
       "      <th>2</th>\n",
       "      <td>1.0</td>\n",
       "      <td>0.000133</td>\n",
       "      <td>1.0</td>\n",
       "      <td>0.000267</td>\n",
       "      <td>1.0</td>\n",
       "      <td>0.000667</td>\n",
       "      <td>0.966667</td>\n",
       "      <td>0.001290</td>\n",
       "      <td>0.933333</td>\n",
       "      <td>0.002490</td>\n",
       "      <td>0.956044</td>\n",
       "      <td>0.003869</td>\n",
       "      <td>0.947020</td>\n",
       "      <td>0.006359</td>\n",
       "      <td>0.624133</td>\n",
       "      <td>0.740297</td>\n",
       "      <td>{'max_depth': 20, 'min_samples_split': 10, 'n_...</td>\n",
       "      <td>([0.7403213062944429, 0.7403529566706176, 0.74...</td>\n",
       "      <td>06/01/2012</td>\n",
       "      <td>RF</td>\n",
       "    </tr>\n",
       "    <tr>\n",
       "      <th>3</th>\n",
       "      <td>1.0</td>\n",
       "      <td>0.000133</td>\n",
       "      <td>1.0</td>\n",
       "      <td>0.000267</td>\n",
       "      <td>1.0</td>\n",
       "      <td>0.000667</td>\n",
       "      <td>1.000000</td>\n",
       "      <td>0.001334</td>\n",
       "      <td>0.983333</td>\n",
       "      <td>0.002624</td>\n",
       "      <td>0.956044</td>\n",
       "      <td>0.003869</td>\n",
       "      <td>0.940397</td>\n",
       "      <td>0.006314</td>\n",
       "      <td>0.638314</td>\n",
       "      <td>0.740297</td>\n",
       "      <td>{'max_depth': 20, 'min_samples_split': 10, 'n_...</td>\n",
       "      <td>([0.7402969351812226, 0.7402798353909466, 0.74...</td>\n",
       "      <td>06/01/2012</td>\n",
       "      <td>RF</td>\n",
       "    </tr>\n",
       "    <tr>\n",
       "      <th>4</th>\n",
       "      <td>1.0</td>\n",
       "      <td>0.000133</td>\n",
       "      <td>1.0</td>\n",
       "      <td>0.000267</td>\n",
       "      <td>1.0</td>\n",
       "      <td>0.000667</td>\n",
       "      <td>0.966667</td>\n",
       "      <td>0.001290</td>\n",
       "      <td>0.933333</td>\n",
       "      <td>0.002490</td>\n",
       "      <td>0.945055</td>\n",
       "      <td>0.003824</td>\n",
       "      <td>0.940397</td>\n",
       "      <td>0.006314</td>\n",
       "      <td>0.659166</td>\n",
       "      <td>0.740297</td>\n",
       "      <td>{'C': 0.5, 'max_iter': 5000, 'penalty': 'l2'}</td>\n",
       "      <td>([0.7402969351812226, 0.7402798353909466, 0.74...</td>\n",
       "      <td>06/01/2012</td>\n",
       "      <td>LR</td>\n",
       "    </tr>\n",
       "  </tbody>\n",
       "</table>\n",
       "</div>"
      ],
      "text/plain": [
       "   0.01_precision  0.01_recall  0.02_precision  0.02_recall  0.05_precision  \\\n",
       "0             1.0     0.000133             1.0     0.000267             1.0   \n",
       "1             1.0     0.000133             1.0     0.000267             1.0   \n",
       "2             1.0     0.000133             1.0     0.000267             1.0   \n",
       "3             1.0     0.000133             1.0     0.000267             1.0   \n",
       "4             1.0     0.000133             1.0     0.000267             1.0   \n",
       "\n",
       "   0.05_recall  0.1_precision  0.1_recall  0.2_precision  0.2_recall  \\\n",
       "0     0.000667       0.966667    0.001290       0.966667    0.002579   \n",
       "1     0.000667       1.000000    0.001334       0.950000    0.002535   \n",
       "2     0.000667       0.966667    0.001290       0.933333    0.002490   \n",
       "3     0.000667       1.000000    0.001334       0.983333    0.002624   \n",
       "4     0.000667       0.966667    0.001290       0.933333    0.002490   \n",
       "\n",
       "   0.3_precision  0.3_recall  0.5_precision  0.5_recall   auc_roc  baseline  \\\n",
       "0       0.978022    0.003958       0.973510    0.006537  0.657127  0.740297   \n",
       "1       0.945055    0.003824       0.953642    0.006403  0.658748  0.740297   \n",
       "2       0.956044    0.003869       0.947020    0.006359  0.624133  0.740297   \n",
       "3       0.956044    0.003869       0.940397    0.006314  0.638314  0.740297   \n",
       "4       0.945055    0.003824       0.940397    0.006314  0.659166  0.740297   \n",
       "\n",
       "                                          parameters  \\\n",
       "0  {'max_depth': 5, 'min_samples_split': 10, 'n_e...   \n",
       "1  {'max_depth': 5, 'min_samples_split': 10, 'n_e...   \n",
       "2  {'max_depth': 20, 'min_samples_split': 10, 'n_...   \n",
       "3  {'max_depth': 20, 'min_samples_split': 10, 'n_...   \n",
       "4      {'C': 0.5, 'max_iter': 5000, 'penalty': 'l2'}   \n",
       "\n",
       "                                            pr_curve  split_date type  \n",
       "0  ([0.7402969351812226, 0.740328581305765, 0.740...  06/01/2012   RF  \n",
       "1  ([0.7403213062944429, 0.7403127572016461, 0.74...  06/01/2012   RF  \n",
       "2  ([0.7403213062944429, 0.7403529566706176, 0.74...  06/01/2012   RF  \n",
       "3  ([0.7402969351812226, 0.7402798353909466, 0.74...  06/01/2012   RF  \n",
       "4  ([0.7402969351812226, 0.7402798353909466, 0.74...  06/01/2012   LR  "
      ]
     },
     "execution_count": 46,
     "metadata": {},
     "output_type": "execute_result"
    }
   ],
   "source": [
    "results.head()"
   ]
  },
  {
   "cell_type": "markdown",
   "metadata": {},
   "source": [
    "# Predicting Donorschoose Funding\n",
    "\n",
    "This analysis sets out to predict which donorchoose projects are at risk of not being funded within 60 days of their initial posting ('target outcome'). Utilizing a dataset on 2012 and 2013 projects, this analysis analyzes the target outcome with respect to the following factors:\n",
    "\n",
    "- number of students reached\n",
    "- total price\n",
    "- charter school (Y/N)\n",
    "- magnet school (Y/N)\n",
    "- match eligible (Y/N)\n",
    "- teacher prefix (proxy for gender/education)\n",
    "- school poverty level\n",
    "- project grade level\n",
    "- primary focus area (e.g. History)\n",
    "- planned expenditures (e.g. Supplies, field trips...)\n",
    "\n",
    "## Best on the Metrics...\n",
    "\n",
    "To promote model strength, three different temporal slices of the dataset were used. Each one of these slices has a different *baseline* (which is the fraction of projects which were funded within 60 days). The baseline is an important factor to compare how much better our predications are versus a model which always guesses yes.\n",
    "\n",
    "The baselines for the slices are as follows:\n",
    "\n",
    "- 1st half of 2012: 0.74\n",
    "- all of 2012: 0.70\n",
    "- 2012 and 1st half of 2013: 0.71\n",
    "\n",
    "### Metric: Precision\n",
    "\n",
    "Precision is the ratio of correctly predicted values to all values predicted correct. Higher precision means fewer values predicted incorrectly. For the suite of models ran in this analysis, 4 models scored higher than 98% precision at the 50% threshold; 3 were the gradient boosted model and 1 was the random forests model. To score higher than 98% precision means that fewer than 2% of projects predicted to not be funded within 60 days by the model were actually funded.\n",
    "\n",
    "### Metric: Recall\n",
    "\n",
    "Recall is the ratio of correctly predicted values to all values which should have been predicted correct. Higher recall means a higher share of values predicted correct. 4 out of the 5 models with the highest recall at the 50% threshold were gradient boosted models.\n",
    "\n",
    "### Metric: Area Under the Curve\n",
    "\n",
    "This metric compares the true positive rate (values predicted true and true) to the false positive rate (values predicted true, but actually false). A model which predicted randomly would have a Area Under the Curve (AUC) of 0.5 The highest scoring models had AUCs around 0.67 and were gradient boosted models.\n",
    "\n",
    "### Metric: Over Time\n",
    "\n",
    "Do some models perform better or worse as the time slice changes? Well, in general most models improved with more data. This is highlighted as an area for further study, however, as shifts in the economy or other external factors may affect how often projects are funded and require the models to be more responsive to the most recent data.\n",
    "\n",
    "## Identifying high risk projects\n",
    "\n",
    "Recommendation: For a project looking to identify 5% of projects as at the highest risk of not getting fully funded in 60 days, the selected model should maximize precision to ensure that all identified projects are actually in need of intervention. With this in mind, this report recommends deploying the gradient boosted following model:\n",
    "\n"
   ]
  },
  {
   "cell_type": "code",
   "execution_count": 45,
   "metadata": {},
   "outputs": [
    {
     "data": {
      "text/plain": [
       "0.01_precision                                                    1\n",
       "0.01_recall                                             0.000132776\n",
       "0.02_precision                                                    1\n",
       "0.02_recall                                             0.000265551\n",
       "0.05_precision                                             0.952381\n",
       "0.05_recall                                             0.000663878\n",
       "0.1_precision                                               0.97619\n",
       "0.1_recall                                               0.00136095\n",
       "0.2_precision                                              0.988095\n",
       "0.2_recall                                                0.0027551\n",
       "0.3_precision                                              0.992126\n",
       "0.3_recall                                               0.00418243\n",
       "0.5_precision                                              0.985849\n",
       "0.5_recall                                               0.00693753\n",
       "auc_roc                                                    0.671588\n",
       "baseline                                                   0.710167\n",
       "parameters        {'learning_rate': 0.1, 'max_depth': 5, 'n_esti...\n",
       "pr_curve          ([0.7102341042506543, 0.7102272727272727, 0.71...\n",
       "split_date                                               06/01/2013\n",
       "type                                                             GB\n",
       "Name: 79, dtype: object"
      ]
     },
     "execution_count": 45,
     "metadata": {},
     "output_type": "execute_result"
    }
   ],
   "source": [
    "results.loc[results['0.5_precision'].idxmax(axis=1)]"
   ]
  }
 ],
 "metadata": {
  "kernelspec": {
   "display_name": "Python 3",
   "language": "python",
   "name": "python3"
  },
  "language_info": {
   "codemirror_mode": {
    "name": "ipython",
    "version": 3
   },
   "file_extension": ".py",
   "mimetype": "text/x-python",
   "name": "python",
   "nbconvert_exporter": "python",
   "pygments_lexer": "ipython3",
   "version": "3.7.3"
  }
 },
 "nbformat": 4,
 "nbformat_minor": 2
}
