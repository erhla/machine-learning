{
 "cells": [
  {
   "cell_type": "code",
   "execution_count": 1,
   "metadata": {},
   "outputs": [],
   "source": [
    "%load_ext autoreload\n",
    "%autoreload 2\n",
    "import pipeline\n",
    "import pandas as pd"
   ]
  },
  {
   "cell_type": "code",
   "execution_count": 2,
   "metadata": {},
   "outputs": [],
   "source": [
    "df = pipeline.read_load('/Users/erhla/Downloads/projects_2012_2013.csv')\n",
    "#convert columns to datetime and add outcome column\n",
    "df['date_posted'] = pd.to_datetime(df['date_posted'])\n",
    "df['datefullyfunded'] = pd.to_datetime(df['datefullyfunded'])\n",
    "df['days_to_fund'] = df['datefullyfunded'] - df['date_posted']\n",
    "df['funded_within_60_days'] = pd.get_dummies(df['days_to_fund'] <= pd.Timedelta('60 days'), drop_first=True)\n",
    "\n",
    "#constants, hardcoded factors, and pre-selected features\n",
    "train_start_dates = ['06/01/2012', '12/01/2012', '06/01/2013']\n",
    "date_col = 'date_posted'\n",
    "test_length = '26 w'\n",
    "test_train_offset = '60 d'\n",
    "cols_to_fill = ['students_reached']\n",
    "cols_to_drop_nas = ['primary_focus_area', 'resource_type', 'grade_level']\n",
    "y_col = 'funded_within_60_days'\n",
    "\n",
    "feature_dict = {'students_reached': 'discretized',\n",
    "                'total_price_including_optional_support': 'discretized',\n",
    "                'school_charter': 'dummy',\n",
    "                'school_magnet': 'dummy',\n",
    "                'eligible_double_your_impact_match': 'dummy',\n",
    "                'teacher_prefix': 'dummy',\n",
    "                'poverty_level': 'dummy',\n",
    "                'grade_level': 'dummy',\n",
    "                'primary_focus_area': 'dummy',\n",
    "                'resource_type': 'dummy'\n",
    "               }"
   ]
  },
  {
   "cell_type": "code",
   "execution_count": 3,
   "metadata": {},
   "outputs": [
    {
     "name": "stdout",
     "output_type": "stream",
     "text": [
      "53 nas filled for students_reached\n",
      "students_reached discretized\n",
      "total_price_including_optional_support discretized\n",
      "school_charter has values:  ['f' 't']\n",
      "dummy created for school_charter\n",
      "school_magnet has values:  ['f' 't']\n",
      "dummy created for school_magnet\n",
      "eligible_double_your_impact_match has values:  ['f' 't']\n",
      "dummy created for eligible_double_your_impact_match\n",
      "teacher_prefix has values:  ['Mrs.' 'Ms.' 'Mr.' 'Dr.']\n",
      "target variable has more than two values, multiple dummies created\n",
      "poverty_level has values:  ['highest poverty' 'high poverty' 'low poverty' 'moderate poverty']\n",
      "target variable has more than two values, multiple dummies created\n",
      "grade_level has values:  ['Grades PreK-2' 'Grades 3-5' 'Grades 9-12' 'Grades 6-8']\n",
      "target variable has more than two values, multiple dummies created\n",
      "primary_focus_area has values:  ['Math & Science' 'History & Civics' 'Literacy & Language'\n",
      " 'Applied Learning' 'Music & The Arts' 'Health & Sports' 'Special Needs']\n",
      "target variable has more than two values, multiple dummies created\n",
      "resource_type has values:  ['Supplies' 'Books' 'Technology' 'Other' 'Trips' 'Visitors']\n",
      "target variable has more than two values, multiple dummies created\n"
     ]
    }
   ],
   "source": [
    "#creating master df\n",
    "df = pipeline.preprocess(df, cols_to_fill, cols_to_drop_nas)\n",
    "df, feature_ls = pipeline.generate_features(df, feature_dict, 10)"
   ]
  },
  {
   "cell_type": "code",
   "execution_count": 4,
   "metadata": {},
   "outputs": [],
   "source": [
    "#creating clusters\n",
    "clustered = df.copy()\n",
    "clustered = pipeline.create_clusters(clustered, feature_ls, 5)"
   ]
  },
  {
   "cell_type": "markdown",
   "metadata": {},
   "source": [
    "## What type of clusters were found?\n",
    "\n",
    "Arbitrarily using five clusters, clusters for the overall submitted projects can be categorized as follows utilizing decision tree feature importance scores and mean feature comparisons:"
   ]
  },
  {
   "cell_type": "code",
   "execution_count": 5,
   "metadata": {},
   "outputs": [
    {
     "name": "stdout",
     "output_type": "stream",
     "text": [
      "\n",
      " cluster:  0 (has 31050 values) \n",
      " the following features have greatest feature importance:\n",
      "total_price_including_optional_support\n",
      "eligible_double_your_impact_match\n",
      "the following features have means greater than 50% different from the dataset average\n",
      "teacher_prefix_Dr.                       -100.000000\n",
      "pred_label                               -100.000000\n",
      "grade_level_Grades PreK-2                 -58.288262\n",
      "primary_focus_area_Special Needs          -51.069561\n",
      "total_price_including_optional_support     50.519612\n",
      "teacher_prefix_Mr.                         64.416570\n",
      "grade_level_Grades 6-8                     71.816191\n",
      "grade_level_Grades 9-12                    87.003924\n",
      "resource_type_Trips                       145.359098\n",
      "resource_type_Visitors                    150.466403\n",
      "dtype: float64\n",
      "\n",
      " cluster:  1 (has 24403 values) \n",
      " the following features have greatest feature importance:\n",
      "total_price_including_optional_support\n",
      "eligible_double_your_impact_match\n",
      "the following features have means greater than 50% different from the dataset average\n",
      "teacher_prefix_Dr.                 -100.000000\n",
      "grade_level_Grades 6-8              -71.173840\n",
      "grade_level_Grades 9-12             -70.803656\n",
      "resource_type_Trips                 -66.446748\n",
      "resource_type_Visitors              -64.192182\n",
      "students_reached                    -58.853082\n",
      "teacher_prefix_Mr.                  -57.171676\n",
      "grade_level_Grades PreK-2            68.663009\n",
      "primary_focus_area_Special Needs     73.280585\n",
      "dtype: float64\n",
      "\n",
      " cluster:  2 (has 17585 values) \n",
      " the following features have greatest feature importance:\n",
      "total_price_including_optional_support\n",
      "the following features have means greater than 50% different from the dataset average\n",
      "teacher_prefix_Dr.                    -100.000000\n",
      "resource_type_Trips                    -92.914416\n",
      "primary_focus_area_Special Needs       -81.103330\n",
      "grade_level_Grades PreK-2              -65.050860\n",
      "teacher_prefix_Mr.                      50.046877\n",
      "primary_focus_area_History & Civics     53.084658\n",
      "students_reached                        65.693814\n",
      "grade_level_Grades 9-12                 87.785538\n",
      "primary_focus_area_Health & Sports      89.488769\n",
      "grade_level_Grades 6-8                 110.567586\n",
      "primary_focus_area_Music & The Arts    116.850934\n",
      "dtype: float64\n",
      "\n",
      " cluster:  3 (has 24226 values) \n",
      " the following features have greatest feature importance:\n",
      "total_price_including_optional_support\n",
      "the following features have means greater than 50% different from the dataset average\n",
      "resource_type_Visitors    -74.751394\n",
      "pred_label                 54.254606\n",
      "teacher_prefix_Dr.        157.896475\n",
      "dtype: float64\n",
      "\n",
      " cluster:  4 (has 27692 values) \n",
      " the following features have greatest feature importance:\n",
      "total_price_including_optional_support\n",
      "eligible_double_your_impact_match\n",
      "the following features have means greater than 50% different from the dataset average\n",
      "grade_level_Grades 6-8                 -67.495783\n",
      "grade_level_Grades 9-12                -62.171751\n",
      "primary_focus_area_Music & The Arts    -53.941174\n",
      "grade_level_Grades PreK-2               53.822167\n",
      "primary_focus_area_Special Needs        66.753716\n",
      "pred_label                             105.672807\n",
      "teacher_prefix_Dr.                     125.617507\n",
      "dtype: float64\n"
     ]
    }
   ],
   "source": [
    "pipeline.explore_clusters_2(clustered, feature_ls, y_col, 0.2)"
   ]
  },
  {
   "cell_type": "markdown",
   "metadata": {},
   "source": [
    "We can then see for example that cluster 0 includes projects which focus on grades 6-12 over those which focus on k-2, cluster 1 focuses on special needs, and cluster 2 focuses on teachers with the prefix mister and Helath & Sports projects."
   ]
  },
  {
   "cell_type": "code",
   "execution_count": 6,
   "metadata": {},
   "outputs": [
    {
     "data": {
      "text/plain": [
       "array([0, 5, 1, 4], dtype=int64)"
      ]
     },
     "execution_count": 6,
     "metadata": {},
     "output_type": "execute_result"
    }
   ],
   "source": [
    "#example merging clusters 2 and 3\n",
    "tmp = pipeline.merge_cluster(clustered, [2, 3])\n",
    "tmp['pred_label'].unique()"
   ]
  },
  {
   "cell_type": "code",
   "execution_count": 7,
   "metadata": {},
   "outputs": [
    {
     "data": {
      "text/plain": [
       "array([0, 3, 1, 5, 6, 2, 7], dtype=int64)"
      ]
     },
     "execution_count": 7,
     "metadata": {},
     "output_type": "execute_result"
    }
   ],
   "source": [
    "#example splitting cluster 4 into three clusters (renumbers as clusters 5 through 7)\n",
    "tmp2 = pipeline.split_cluster(clustered, feature_ls, 4, 3)\n",
    "tmp2['pred_label'].unique()"
   ]
  },
  {
   "cell_type": "code",
   "execution_count": 8,
   "metadata": {},
   "outputs": [
    {
     "data": {
      "text/plain": [
       "array([1, 0, 4, 6, 2, 7, 5, 9, 3, 8], dtype=int64)"
      ]
     },
     "execution_count": 8,
     "metadata": {},
     "output_type": "execute_result"
    }
   ],
   "source": [
    "#example recluster\n",
    "tmp3 = pipeline.create_clusters(clustered, feature_ls, 10)\n",
    "tmp3['pred_label'].unique()"
   ]
  },
  {
   "cell_type": "code",
   "execution_count": 9,
   "metadata": {},
   "outputs": [
    {
     "name": "stdout",
     "output_type": "stream",
     "text": [
      "39 nas filled for students_reached\n",
      "students_reached discretized\n",
      "total_price_including_optional_support discretized\n",
      "school_charter has values:  ['f' 't']\n",
      "dummy created for school_charter\n",
      "school_magnet has values:  ['f' 't']\n",
      "dummy created for school_magnet\n",
      "eligible_double_your_impact_match has values:  ['t' 'f']\n",
      "dummy created for eligible_double_your_impact_match\n",
      "teacher_prefix has values:  ['Mrs.' 'Ms.' 'Mr.']\n",
      "target variable has more than two values, multiple dummies created\n",
      "poverty_level has values:  ['highest poverty' 'high poverty' 'moderate poverty' 'low poverty']\n",
      "target variable has more than two values, multiple dummies created\n",
      "grade_level has values:  ['Grades 3-5' 'Grades PreK-2' 'Grades 9-12' 'Grades 6-8']\n",
      "target variable has more than two values, multiple dummies created\n",
      "primary_focus_area has values:  ['History & Civics' 'Literacy & Language' 'Math & Science'\n",
      " 'Music & The Arts' 'Applied Learning' 'Health & Sports' 'Special Needs']\n",
      "target variable has more than two values, multiple dummies created\n",
      "resource_type has values:  ['Books' 'Technology' 'Other' 'Supplies' 'Trips' 'Visitors']\n",
      "target variable has more than two values, multiple dummies created\n",
      "students_reached discretized\n",
      "total_price_including_optional_support discretized\n",
      "school_charter has values:  ['f' 't']\n",
      "dummy created for school_charter\n",
      "school_magnet has values:  ['f' 't']\n",
      "dummy created for school_magnet\n",
      "eligible_double_your_impact_match has values:  ['f' 't']\n",
      "dummy created for eligible_double_your_impact_match\n",
      "teacher_prefix has values:  ['Mrs.' 'Ms.' 'Mr.' 'Dr.']\n",
      "target variable has more than two values, multiple dummies created\n",
      "poverty_level has values:  ['high poverty' 'low poverty' 'moderate poverty' 'highest poverty']\n",
      "target variable has more than two values, multiple dummies created\n",
      "grade_level has values:  ['Grades 3-5' 'Grades PreK-2' 'Grades 9-12' 'Grades 6-8']\n",
      "target variable has more than two values, multiple dummies created\n",
      "primary_focus_area has values:  ['Applied Learning' 'History & Civics' 'Music & The Arts'\n",
      " 'Health & Sports' 'Literacy & Language' 'Special Needs' 'Math & Science']\n",
      "target variable has more than two values, multiple dummies created\n",
      "resource_type has values:  ['Technology' 'Other' 'Supplies' 'Books' 'Trips' 'Visitors']\n",
      "target variable has more than two values, multiple dummies created\n"
     ]
    }
   ],
   "source": [
    "#import results from hw5\n",
    "results = pd.read_excel('../hw5/results.xlsx')\n",
    "\n",
    "#model with top 5% precision\n",
    "top_model = results.loc[results['5_precision'].idxmax(axis=1)]\n",
    "\n",
    "#getting testing and training data top model was trained/tested on\n",
    "new_df = pipeline.read_load('/Users/erhla/Downloads/projects_2012_2013.csv')\n",
    "\n",
    "#convert columns to datetime and add outcome column\n",
    "new_df['date_posted'] = pd.to_datetime(new_df['date_posted'])\n",
    "new_df['datefullyfunded'] = pd.to_datetime(new_df['datefullyfunded'])\n",
    "new_df['days_to_fund'] = new_df['datefullyfunded'] - new_df['date_posted']\n",
    "new_df['funded_within_60_days'] = pd.get_dummies(new_df['days_to_fund'] <= pd.Timedelta('60 days'), drop_first=True)\n",
    "test, train = pipeline.time_split(new_df, date_col, top_model['train_start'], test_length, test_train_offset)\n",
    "train = pipeline.preprocess(train, cols_to_fill, cols_to_drop_nas)\n",
    "test = pipeline.preprocess(test, cols_to_fill, cols_to_drop_nas)\n",
    "train, feature_ls = pipeline.generate_features(train, feature_dict, 10)\n",
    "test, feature_ls2 = pipeline.generate_features(test, feature_dict, 10)\n",
    "x_cols = list(set(feature_ls) & set(feature_ls2)) #include only feature columns which appear in both testing/training"
   ]
  },
  {
   "cell_type": "code",
   "execution_count": 10,
   "metadata": {},
   "outputs": [],
   "source": [
    "#get predicted scores from top model\n",
    "y_test_predicted = pipeline.build_models(test[x_cols], test[y_col], train[x_cols], train[y_col], [top_model['type']], top_model['parameters'])\n",
    "\n",
    "#add predicted scores to testing\n",
    "test['pred_score'] = y_test_predicted\n",
    "\n",
    "#get 5% of testing data with highest predicted score\n",
    "fifth_percent_index = test.sort_values('pred_score', ascending=False).index[(int(test.shape[0]*0.05))]\n",
    "fifth_percent_pred_score = test.loc[fifth_percent_index]['pred_score']\n",
    "top_five_pred_scores = test[test['pred_score'] > fifth_percent_pred_score].copy()\n"
   ]
  },
  {
   "cell_type": "code",
   "execution_count": 11,
   "metadata": {},
   "outputs": [
    {
     "name": "stdout",
     "output_type": "stream",
     "text": [
      "\n",
      " cluster:  0 (has 569 values) \n",
      " the following features have greatest feature importance:\n",
      "resource_type_Other\n",
      "the following features have means greater than 50% different from the dataset average\n",
      "pred_label                  -100.000000\n",
      "resource_type_Visitors       -76.669596\n",
      "poverty_level_low poverty    -68.892794\n",
      "dtype: float64\n",
      "\n",
      " cluster:  1 (has 365 values) \n",
      " the following features have greatest feature importance:\n",
      "students_reached\n",
      "teacher_prefix_Mrs.\n",
      "the following features have means greater than 50% different from the dataset average\n",
      "primary_focus_area_History & Civics    -79.700542\n",
      "students_reached                       -77.817618\n",
      "resource_type_Trips                    -70.158061\n",
      "eligible_double_your_impact_match      -66.999869\n",
      "primary_focus_area_Applied Learning    -53.071144\n",
      "pred_label                             -52.333932\n",
      "primary_focus_area_Music & The Arts    -50.121331\n",
      "primary_focus_area_Health & Sports      69.726027\n",
      "primary_focus_area_Special Needs       295.324598\n",
      "dtype: float64\n",
      "\n",
      " cluster:  2 (has 33 values) \n",
      " the following features have greatest feature importance:\n",
      "students_reached\n",
      "total_price_including_optional_support\n",
      "poverty_level_moderate poverty\n",
      "the following features have means greater than 50% different from the dataset average\n",
      "poverty_level_low poverty                 -100.000000\n",
      "resource_type_Books                       -100.000000\n",
      "resource_type_Other                       -100.000000\n",
      "resource_type_Supplies                    -100.000000\n",
      "resource_type_Technology                  -100.000000\n",
      "primary_focus_area_Literacy & Language     -82.268971\n",
      "primary_focus_area_Special Needs           -65.019763\n",
      "teacher_prefix_Mrs.                        -61.179954\n",
      "poverty_level_moderate poverty              81.306018\n",
      "primary_focus_area_Music & The Arts        102.285714\n",
      "primary_focus_area_Applied Learning        419.061584\n",
      "total_price_including_optional_support     506.832106\n",
      "resource_type_Trips                       3695.804196\n",
      "resource_type_Visitors                    3922.727273\n",
      "dtype: float64\n",
      "\n",
      " cluster:  3 (has 603 values) \n",
      " the following features have greatest feature importance:\n",
      "students_reached\n",
      "resource_type_Visitors\n",
      "the following features have means greater than 50% different from the dataset average\n",
      "primary_focus_area_Special Needs       -94.256976\n",
      "resource_type_Trips                    -81.936471\n",
      "resource_type_Visitors                 -77.985075\n",
      "grade_level_Grades PreK-2              -67.222863\n",
      "teacher_prefix_Mr.                      72.372182\n",
      "students_reached                        73.114280\n",
      "grade_level_Grades 9-12                 90.890708\n",
      "primary_focus_area_Music & The Arts     93.228145\n",
      "grade_level_Grades 6-8                 100.036853\n",
      "dtype: float64\n",
      "\n",
      " cluster:  4 (has 554 values) \n",
      " the following features have greatest feature importance:\n",
      "resource_type_Supplies\n",
      "resource_type_Technology\n",
      "the following features have means greater than 50% different from the dataset average\n",
      "resource_type_Trips                -90.169397\n",
      "grade_level_Grades 6-8             -77.280385\n",
      "resource_type_Visitors             -76.037906\n",
      "grade_level_Grades 9-12            -74.028182\n",
      "teacher_prefix_Mr.                 -56.494354\n",
      "primary_focus_area_Special Needs   -56.243133\n",
      "poverty_level_moderate poverty      61.997254\n",
      "grade_level_Grades PreK-2           64.311501\n",
      "pred_label                          90.664273\n",
      "poverty_level_low poverty           91.696751\n",
      "dtype: float64\n"
     ]
    }
   ],
   "source": [
    "#add clusters\n",
    "top_five_pred_scores = pipeline.create_clusters(top_five_pred_scores, feature_ls, 5)\n",
    "\n",
    "#explore clusters\n",
    "pipeline.explore_clusters_2(top_five_pred_scores, feature_ls, y_col, 0.2)"
   ]
  },
  {
   "cell_type": "markdown",
   "metadata": {},
   "source": [
    "The above clusters were generated from testing data including only projects which had predicted scores in the top 5% from the model with the highest precision at 5% population.\n",
    "\n",
    "These models then were clustered into 5 clusters. Cluster 0 for example, is much less likely to include projects which focused on low poverty areas. "
   ]
  }
 ],
 "metadata": {
  "kernelspec": {
   "display_name": "Python 3",
   "language": "python",
   "name": "python3"
  },
  "language_info": {
   "codemirror_mode": {
    "name": "ipython",
    "version": 3
   },
   "file_extension": ".py",
   "mimetype": "text/x-python",
   "name": "python",
   "nbconvert_exporter": "python",
   "pygments_lexer": "ipython3",
   "version": "3.7.3"
  }
 },
 "nbformat": 4,
 "nbformat_minor": 2
}
