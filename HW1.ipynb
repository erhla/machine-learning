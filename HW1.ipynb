{
 "cells": [
  {
   "cell_type": "code",
   "execution_count": 100,
   "metadata": {},
   "outputs": [],
   "source": [
    "import hw1\n",
    "import pandas as pd\n",
    "import matplotlib.pyplot as plt\n",
    "import numpy"
   ]
  },
  {
   "cell_type": "code",
   "execution_count": null,
   "metadata": {},
   "outputs": [],
   "source": [
    "#Problem 1\n",
    "crime = hw1.download_17_18_alt()\n",
    "crime = crime.set_index('Date')"
   ]
  },
  {
   "cell_type": "code",
   "execution_count": null,
   "metadata": {
    "scrolled": false
   },
   "outputs": [],
   "source": [
    "type_reported = crime.groupby('Primary Type').size().sort_values(ascending=False)[:15]\n",
    "plt.bar(type_reported.index, type_reported.values)\n",
    "plt.xticks(rotation=90)\n",
    "plt.title('Top 15 Crime Types Reported')\n",
    "plt.show()"
   ]
  },
  {
   "cell_type": "code",
   "execution_count": null,
   "metadata": {},
   "outputs": [],
   "source": [
    "date_grouped = crime.groupby(pd.Grouper(freq='M')).size()\n",
    "plt.plot(date_grouped)\n",
    "plt.title('Crimes Reported per month')\n",
    "plt.xticks(rotation=90)\n",
    "plt.show()"
   ]
  },
  {
   "cell_type": "code",
   "execution_count": null,
   "metadata": {},
   "outputs": [],
   "source": [
    "theft_df = crime[crime['Primary Type'] == 'THEFT']\n",
    "date_grouped = theft_df.groupby(pd.Grouper(freq='M')).size()\n",
    "plt.plot(date_grouped)\n",
    "plt.title('When do Thefts occur?')\n",
    "plt.xticks(rotation=90)\n",
    "plt.show()"
   ]
  },
  {
   "cell_type": "code",
   "execution_count": null,
   "metadata": {},
   "outputs": [],
   "source": [
    "by_neighborhood = crime.groupby('Community Area')['Primary Type'].value_counts().unstack().idxmax(axis=1)\n",
    "\n",
    "#Violent Crime is most common\n",
    "numpy.where(numpy.isin(by_neighborhood, 'BATTERY'))[0]"
   ]
  },
  {
   "cell_type": "code",
   "execution_count": null,
   "metadata": {},
   "outputs": [],
   "source": [
    "#Property Crime is most common\n",
    "numpy.where(numpy.isin(by_neighborhood, 'THEFT'))[0]"
   ]
  },
  {
   "cell_type": "markdown",
   "metadata": {},
   "source": [
    "Problem 1 Writeup: The previous two cells make a simple demarkation between Chicago's neighborhoods. For some, Battery (a violent crime) is most common and for others Theft (a property crime) is most common."
   ]
  },
  {
   "cell_type": "code",
   "execution_count": null,
   "metadata": {},
   "outputs": [],
   "source": [
    "#Problem 2\n",
    "#census = hw1.get_census_data()\n",
    "coded = hw1.geomerge(crime)\n",
    "coded\n"
   ]
  },
  {
   "cell_type": "code",
   "execution_count": null,
   "metadata": {},
   "outputs": [],
   "source": [
    "#Problem 3\n",
    "crime_17 = crime.loc['2017-01-01':'2017-12-31']\n",
    "crime_18 = crime.loc['2018-01-01':'2018-12-31']\n",
    "\n",
    "sorted_17 = crime_17.groupby('Primary Type').size().sort_values(ascending=False)[:15]\n",
    "plt.bar(sorted_17.index, sorted_17.values)\n",
    "plt.xticks(rotation=90)\n",
    "plt.title('Top 15 Crime Types Reported in 2017')\n",
    "plt.show()"
   ]
  },
  {
   "cell_type": "code",
   "execution_count": null,
   "metadata": {},
   "outputs": [],
   "source": [
    "sorted_18 = crime_18.groupby('Primary Type').size().sort_values(ascending=False)[:15]\n",
    "plt.bar(sorted_18.index, sorted_18.values)\n",
    "plt.xticks(rotation=90)\n",
    "plt.title('Top 15 Crime Types Reported in 2018')\n",
    "plt.show()"
   ]
  },
  {
   "cell_type": "code",
   "execution_count": null,
   "metadata": {},
   "outputs": [],
   "source": [
    "sorted_18[:5] - sorted_17[:5]"
   ]
  },
  {
   "cell_type": "code",
   "execution_count": null,
   "metadata": {},
   "outputs": [],
   "source": [
    "print('Total percent change in crime 2018 to 2017',\n",
    "      round((crime_18.shape[0] - crime_17.shape[0])/crime_17.shape[0]*100,3))\n",
    "difference = (crime_18.groupby('Community Area').size() - crime_17.groupby('Community Area').size()) / crime_17.groupby('Community Area').size()\n",
    "\n",
    "print('10 areas with biggest increase in total crime: \\n',\n",
    "      difference.sort_values(ascending=False).head(10),\n",
    "      '\\n\\n10 areas with biggest decrease in total crime: \\n',\n",
    "      difference.sort_values().head(10))"
   ]
  },
  {
   "cell_type": "code",
   "execution_count": null,
   "metadata": {},
   "outputs": [],
   "source": [
    "july_17 = crime['2017-07-01':'2017-07-26'].groupby('Primary Type').size()\n",
    "july_18 = crime['2018-07-01':'2018-07-26'].groupby('Primary Type').size()\n",
    "\n",
    "to_compare = ['BATTERY', 'ROBBERY', 'BURGLARY', 'MOTOR VEHICLE THEFT']"
   ]
  },
  {
   "cell_type": "code",
   "execution_count": null,
   "metadata": {},
   "outputs": [],
   "source": [
    "for crime in to_compare:\n",
    "    print(crime,\n",
    "          'changed:',\n",
    "          round(100*(july_18.loc[crime] - july_17[crime])/july_17[crime],3),\n",
    "          'percent.')\n",
    "print('Total change in crime:',\n",
    "      round(100*(july_18.shape[0] - july_17.shape[0])/july_17.shape[0],3),\n",
    "      'percent.')"
   ]
  },
  {
   "cell_type": "markdown",
   "metadata": {},
   "source": [
    "Crime in Chicago had relatively little change from 2017 to 2018. While Theft and Battery crimes increased about 600 crimes each, relative to the scale these changes are insignificant and the total change in crime from 2017 to 2018 was essentially unchanged. Still there was geographic variation. Community Area 41 saw a 13% increase in crimes reported and Community Area 59 saw a 14% decrease in total crimes reported.\n",
    "\n",
    "The statistics given by the candidate seem to be misleading based on the information I constructed. Albeit \"our neighborhoods\" may be some unknown subset of Chicago, for the city at large, Battery changed 6% not 136% and Motor Vehicle theft decreased 14%. While the specific time frame chosen seems largely comparable (same season and number of weekends), the language suggests that a month in 2018 is being compared to a week in 2017 which is unclear.\n",
    "\n",
    "5 key findings:\n",
    "- Crime is highly variable between Community Areas. From 2017 to 2018, one community area saw an increase in 13% in crime and another saw a 13% decrease.\n",
    "- While the city at large sees more Theft crimes than any other, some community areas have Battery as the most commonly reported crime. "
   ]
  },
  {
   "cell_type": "code",
   "execution_count": null,
   "metadata": {},
   "outputs": [],
   "source": [
    "#Problem 4. 2111 S. Michigan is in 33 (Near South Side). Uptown is 3. Garfield Park is 26 & 27.\n",
    "\n",
    "#top ten crimes for Near South Side\n",
    "#most likely is theft\n",
    "result = crime.groupby('Community Area')['Primary Type'].value_counts()[33.0] / crime.groupby('Community Area')['Primary Type'].value_counts()[33.0].sum()\n",
    "result[:10]"
   ]
  },
  {
   "cell_type": "code",
   "execution_count": null,
   "metadata": {},
   "outputs": [],
   "source": [
    "#Thefts in Uptown\n",
    "theft_df.groupby('Community Area').size()[3.0]"
   ]
  },
  {
   "cell_type": "code",
   "execution_count": null,
   "metadata": {},
   "outputs": [],
   "source": [
    "#Thefts in East/West Garfield Park\n",
    "theft_df.groupby('Community Area').size()[26.0] + theft_df.groupby('Community Area').size()[27.0]"
   ]
  },
  {
   "cell_type": "markdown",
   "metadata": {},
   "source": [
    "Part B\n",
    "Pr(Uptown | Theft) = 1954/129428\n",
    "Pr(Garfield | Theft) = 2494/129428\n",
    "\n",
    "Given the call is about Theft, it is more likely the call came from Garfield Park. The probabilities are relatively the same however, so it is not significantly more likely.\n",
    "\n",
    "Part C\n",
    "Pr(Garfield | Battery) = 100/260 \n",
    "Pr(Uptown | Battery) = 160/260\n",
    "\n",
    "Given the call is about Battery, it is about 60% more likely the call came from Uptown versus Garfield Park. "
   ]
  }
 ],
 "metadata": {
  "kernelspec": {
   "display_name": "Python 3",
   "language": "python",
   "name": "python3"
  },
  "language_info": {
   "codemirror_mode": {
    "name": "ipython",
    "version": 3
   },
   "file_extension": ".py",
   "mimetype": "text/x-python",
   "name": "python",
   "nbconvert_exporter": "python",
   "pygments_lexer": "ipython3",
   "version": "3.6.7"
  }
 },
 "nbformat": 4,
 "nbformat_minor": 2
}
